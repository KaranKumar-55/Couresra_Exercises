{
 "cells": [
  {
   "cell_type": "markdown",
   "id": "81bc46fb",
   "metadata": {},
   "source": [
    "## Introduction"
   ]
  },
  {
   "cell_type": "markdown",
   "id": "0cca4f8a",
   "metadata": {},
   "source": [
    "### Data Science Tools\n",
    "\n",
    "\n",
    "1. rstudio\n",
    "2. watson studio\n",
    "3. VS Code\n",
    "4. Jupyter notebook\n",
    "5. Jupyter Lab\n",
    "\n"
   ]
  },
  {
   "cell_type": "markdown",
   "id": "002f1541",
   "metadata": {},
   "source": [
    "-------\n",
    "\n",
    "### Data Science Libraries\n",
    "\n",
    "\n",
    "#### Python\n",
    "\n",
    "1. Numpy\n",
    "2. Pandas\n",
    "3. matplotlib\n",
    "4. Seaborn\n",
    "5. Scikit Learn\n",
    "6. plotly\n",
    "\n",
    "---\n",
    "\n",
    "#### R\n",
    "1. ggplot2\n",
    "2. tidyverse\n"
   ]
  },
  {
   "cell_type": "markdown",
   "id": "2868df84",
   "metadata": {},
   "source": [
    "----\n",
    "### Data Science Languages\n",
    "\n",
    "1. Python\n",
    "2. R\n",
    "3. Scala\n",
    "4. SQL"
   ]
  },
  {
   "cell_type": "markdown",
   "id": "b708247e",
   "metadata": {},
   "source": [
    "---\n",
    "##### Arithematic Operations"
   ]
  },
  {
   "cell_type": "code",
   "execution_count": 5,
   "id": "fc3ed201",
   "metadata": {},
   "outputs": [
    {
     "data": {
      "text/plain": [
       "4"
      ]
     },
     "execution_count": 5,
     "metadata": {},
     "output_type": "execute_result"
    }
   ],
   "source": [
    "2+2"
   ]
  },
  {
   "cell_type": "code",
   "execution_count": 9,
   "id": "1bf911cc",
   "metadata": {},
   "outputs": [
    {
     "data": {
      "text/plain": [
       "75.0"
      ]
     },
     "execution_count": 9,
     "metadata": {},
     "output_type": "execute_result"
    }
   ],
   "source": [
    "5*5 * (6/2)"
   ]
  },
  {
   "cell_type": "code",
   "execution_count": 10,
   "id": "61b21096",
   "metadata": {},
   "outputs": [
    {
     "data": {
      "text/plain": [
       "15"
      ]
     },
     "execution_count": 10,
     "metadata": {},
     "output_type": "execute_result"
    }
   ],
   "source": [
    " 5*3"
   ]
  },
  {
   "cell_type": "code",
   "execution_count": 11,
   "id": "7933ff59",
   "metadata": {},
   "outputs": [
    {
     "data": {
      "text/plain": [
       "15"
      ]
     },
     "execution_count": 11,
     "metadata": {},
     "output_type": "execute_result"
    }
   ],
   "source": [
    "4 + 11"
   ]
  },
  {
   "cell_type": "markdown",
   "id": "e44ef566",
   "metadata": {},
   "source": [
    "----\n",
    "#### Minutes to Hours Conversion"
   ]
  },
  {
   "cell_type": "code",
   "execution_count": 13,
   "id": "e0ee08c6",
   "metadata": {},
   "outputs": [
    {
     "data": {
      "text/plain": [
       "2.0"
      ]
     },
     "execution_count": 13,
     "metadata": {},
     "output_type": "execute_result"
    }
   ],
   "source": [
    "minutes = 120 # we take 120 minutes and lets convert into hours\n",
    "\n",
    "hours = minutes/60 #formula for hours calculation\n",
    "\n",
    "hours # lets see output\n"
   ]
  },
  {
   "cell_type": "markdown",
   "id": "eff55b2f",
   "metadata": {},
   "source": [
    "---\n",
    "\n",
    "### Objectives\n",
    "\n",
    "- To learn the basic concept of Data Science\n",
    "- To learn the tools\n",
    "- To learn the languages\n",
    "- To learn the usage of tools and practical work\n",
    "- To learn the real world projects"
   ]
  },
  {
   "cell_type": "markdown",
   "id": "08d4c4f2",
   "metadata": {},
   "source": [
    "---"
   ]
  },
  {
   "cell_type": "markdown",
   "id": "1749962e",
   "metadata": {},
   "source": [
    "Author's Name : Karan Kumar"
   ]
  },
  {
   "cell_type": "code",
   "execution_count": null,
   "id": "e6596a0d",
   "metadata": {},
   "outputs": [],
   "source": []
  },
  {
   "cell_type": "code",
   "execution_count": null,
   "id": "7bf09147",
   "metadata": {},
   "outputs": [],
   "source": []
  }
 ],
 "metadata": {
  "kernelspec": {
   "display_name": "Python 3 (ipykernel)",
   "language": "python",
   "name": "python3"
  },
  "language_info": {
   "codemirror_mode": {
    "name": "ipython",
    "version": 3
   },
   "file_extension": ".py",
   "mimetype": "text/x-python",
   "name": "python",
   "nbconvert_exporter": "python",
   "pygments_lexer": "ipython3",
   "version": "3.9.13"
  }
 },
 "nbformat": 4,
 "nbformat_minor": 5
}
